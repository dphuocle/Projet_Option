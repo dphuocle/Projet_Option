{
 "cells": [
  {
   "cell_type": "markdown",
   "metadata": {
    "id": "oiutsxb9XGPE"
   },
   "source": [
    "# Detecting SQL injections using BERT"
   ]
  },
  {
   "cell_type": "markdown",
   "metadata": {
    "id": "k6fKHXpsXI0O"
   },
   "source": [
    "# Importing the libraries"
   ]
  },
  {
   "cell_type": "code",
   "execution_count": 1,
   "metadata": {
    "id": "U1ry-3RsbyHc",
    "tags": []
   },
   "outputs": [],
   "source": [
    "import numpy as np\n",
    "import ktrain\n",
    "from ktrain import text\n",
    "import pandas as pd\n",
    "import chardet\n",
    "import matplotlib.pyplot as plt\n",
    "import matplotlib\n",
    "from sklearn.model_selection import train_test_split\n",
    "import seaborn as sns\n",
    "import pickle"
   ]
  },
  {
   "cell_type": "markdown",
   "metadata": {
    "id": "T6uQWRCUd2Kv"
   },
   "source": [
    "# Reading and displaying the dataset"
   ]
  },
  {
   "cell_type": "code",
   "execution_count": 2,
   "metadata": {
    "colab": {
     "base_uri": "https://localhost:8080/"
    },
    "id": "jvRlnEJ8cnRj",
    "outputId": "73eecbca-59ec-499e-96dd-a181fcecaac1",
    "tags": []
   },
   "outputs": [
    {
     "name": "stdout",
     "output_type": "stream",
     "text": [
      "                                            Sentence  Label\n",
      "0                  \" or pg_sleep  (  __TIME__  )  --      1\n",
      "1   AND 1  =  utl_inaddr.get_host_address   (    ...      1\n",
      "2   select * from users where id  =  '1' or @ @1 ...      1\n",
      "3   select * from users where id  =  1 or 1#\"  ( ...      1\n",
      "4   select name from syscolumns where id   =     ...      1\n",
      "5  select * from users where id  =  1 +$+ or 1  =...      1\n",
      "6  1;  (  load_file  (  char  (  47,101,116,99,47...      1\n",
      "7   select * from users where id  =  '1' or ||/1 ...      1\n",
      "8   select * from users where id  =  '1' or \\.<\\ ...      1\n",
      "9                                    ? or 1  =  1 --      1\n"
     ]
    }
   ],
   "source": [
    "# Detect the encoding of the CSV file\n",
    "with open('D:/5e INSA CVL Semestre 9/ProjetOption_NotOnGithub/detecting-sql-injections-using-bert/DATASETS/SQLiV3_3.csv', 'rb') as f:\n",
    "    result = chardet.detect(f.read())\n",
    "# Read the CSV file into a pandas dataframe, using the detected encoding\n",
    "df = pd.read_csv('D:/5e INSA CVL Semestre 9/ProjetOption_NotOnGithub/detecting-sql-injections-using-bert/DATASETS/SQLiV3_3.csv', sep=',',  encoding=result['encoding'])\n",
    "# Display the first rows of the dataframe\n",
    "print(df.head(10))"
   ]
  },
  {
   "cell_type": "code",
   "execution_count": 3,
   "metadata": {
    "colab": {
     "base_uri": "https://localhost:8080/"
    },
    "id": "EeAUiQGPdtGa",
    "outputId": "03df87d3-887d-47eb-f96d-ea8d64f2c04b",
    "tags": []
   },
   "outputs": [
    {
     "data": {
      "text/plain": [
       "(22599, 2)"
      ]
     },
     "execution_count": 3,
     "metadata": {},
     "output_type": "execute_result"
    }
   ],
   "source": [
    "df.shape"
   ]
  },
  {
   "cell_type": "code",
   "execution_count": 4,
   "metadata": {
    "colab": {
     "base_uri": "https://localhost:8080/"
    },
    "id": "mhMyGO_xeGZU",
    "outputId": "51c006fe-f0cb-4baa-f86c-cc9eb7036fe3",
    "tags": []
   },
   "outputs": [
    {
     "name": "stdout",
     "output_type": "stream",
     "text": [
      "----------------------------------------------------\n",
      "<class 'pandas.core.frame.DataFrame'>\n",
      "RangeIndex: 22599 entries, 0 to 22598\n",
      "Data columns (total 2 columns):\n",
      " #   Column    Non-Null Count  Dtype \n",
      "---  ------    --------------  ----- \n",
      " 0   Sentence  22599 non-null  object\n",
      " 1   Label     22599 non-null  int64 \n",
      "dtypes: int64(1), object(1)\n",
      "memory usage: 353.2+ KB\n",
      "----------------------------------------------------\n"
     ]
    }
   ],
   "source": [
    "print(\"----------------------------------------------------\")\n",
    "df.info()\n",
    "print(\"----------------------------------------------------\")"
   ]
  },
  {
   "cell_type": "code",
   "execution_count": 5,
   "metadata": {
    "colab": {
     "base_uri": "https://localhost:8080/"
    },
    "id": "p_EUGH9qeORB",
    "outputId": "51ffbfc6-f0e7-4c74-b630-850d94386be0",
    "tags": []
   },
   "outputs": [
    {
     "data": {
      "text/plain": [
       "count    22599.000000\n",
       "mean         0.499624\n",
       "std          0.500011\n",
       "min          0.000000\n",
       "25%          0.000000\n",
       "50%          0.000000\n",
       "75%          1.000000\n",
       "max          1.000000\n",
       "Name: Label, dtype: float64"
      ]
     },
     "execution_count": 5,
     "metadata": {},
     "output_type": "execute_result"
    }
   ],
   "source": [
    "df['Label'].describe()"
   ]
  },
  {
   "cell_type": "markdown",
   "metadata": {
    "id": "ZSV35_OjeaA9"
   },
   "source": [
    "# Process NaN values"
   ]
  },
  {
   "cell_type": "code",
   "execution_count": 6,
   "metadata": {
    "colab": {
     "base_uri": "https://localhost:8080/"
    },
    "id": "KJdPtwJMecl4",
    "outputId": "32b6af99-36f5-4093-8620-2b37f00eb587",
    "tags": []
   },
   "outputs": [
    {
     "data": {
      "text/plain": [
       "0"
      ]
     },
     "execution_count": 6,
     "metadata": {},
     "output_type": "execute_result"
    }
   ],
   "source": [
    "df['Label'].isna().sum() # Count NaN label values."
   ]
  },
  {
   "cell_type": "markdown",
   "metadata": {
    "id": "e-JT7ITZepvj"
   },
   "source": [
    "# The target label"
   ]
  },
  {
   "cell_type": "code",
   "execution_count": 7,
   "metadata": {
    "colab": {
     "base_uri": "https://localhost:8080/"
    },
    "id": "W_tP4yZVerHl",
    "outputId": "2a42e336-5afd-42ab-d04f-895d5b761ca4",
    "tags": []
   },
   "outputs": [
    {
     "name": "stdout",
     "output_type": "stream",
     "text": [
      "[1 0]\n"
     ]
    }
   ],
   "source": [
    "# Get unique values existing in the label column.\n",
    "\n",
    "unique_label = pd.unique(df['Label'])\n",
    "\n",
    "print(unique_label)"
   ]
  },
  {
   "cell_type": "code",
   "execution_count": 8,
   "metadata": {
    "colab": {
     "base_uri": "https://localhost:8080/"
    },
    "id": "t3yl8gvte4e2",
    "outputId": "7b5a162e-0825-4415-a782-dd87255fb44b",
    "tags": []
   },
   "outputs": [
    {
     "data": {
      "text/plain": [
       "Sentence    11291\n",
       "Label       11291\n",
       "dtype: int64"
      ]
     },
     "execution_count": 8,
     "metadata": {},
     "output_type": "execute_result"
    }
   ],
   "source": [
    "df[df['Label'] == 1].count() # Count how much label are 1."
   ]
  },
  {
   "cell_type": "code",
   "execution_count": 9,
   "metadata": {
    "colab": {
     "base_uri": "https://localhost:8080/"
    },
    "id": "a32TE6BUe61N",
    "outputId": "62fd16ac-f7aa-4961-a2e9-9637aaf17255",
    "tags": []
   },
   "outputs": [
    {
     "data": {
      "text/plain": [
       "Sentence    11308\n",
       "Label       11308\n",
       "dtype: int64"
      ]
     },
     "execution_count": 9,
     "metadata": {},
     "output_type": "execute_result"
    }
   ],
   "source": [
    "df[df['Label'] == 0].count() # Count how much label are 0."
   ]
  },
  {
   "cell_type": "markdown",
   "metadata": {
    "id": "BJ8ZTdpfe-8D"
   },
   "source": [
    "# Distribution of the label"
   ]
  },
  {
   "cell_type": "code",
   "execution_count": 10,
   "metadata": {
    "colab": {
     "base_uri": "https://localhost:8080/",
     "height": 713
    },
    "id": "d0UGNwn6fBLf",
    "outputId": "fcb929dc-1788-4f1b-c35f-30550d696dbb",
    "tags": []
   },
   "outputs": [
    {
     "data": {
      "image/png": "[encoded data removed]",
      "text/plain": [
       "<Figure size 1200x800 with 2 Axes>"
      ]
     },
     "metadata": {},
     "output_type": "display_data"
    }
   ],
   "source": [
    "import matplotlib.colors as mcolors\n",
    "f, ax = plt.subplots(1, 2, figsize=(12, 8))\n",
    "colors = list(mcolors.TABLEAU_COLORS.values())\n",
    "df['Label'].value_counts().plot.pie(explode=[0, 0.1], autopct='%1.1f%%', ax=ax[0], wedgeprops={'edgecolor': 'white', 'linewidth': 2, 'antialiased': True}, colors=colors)\n",
    "\n",
    "ax[0].set_title('Label')\n",
    "ax[0].set_ylabel('')\n",
    "sns.countplot(x='Label', data=df, ax=ax[1], palette=colors)\n",
    "ax[1].set_title('Label')\n",
    "plt.show()"
   ]
  },
  {
   "cell_type": "markdown",
   "metadata": {
    "id": "fvvv-V9Whjdi"
   },
   "source": [
    "# Creating the training and test sets"
   ]
  },
  {
   "cell_type": "code",
   "execution_count": 11,
   "metadata": {
    "colab": {
     "base_uri": "https://localhost:8080/",
     "height": 295
    },
    "id": "lLOiBqjQhpgm",
    "outputId": "2ee1cc7e-4a25-466a-fec8-888f75dd223a",
    "tags": []
   },
   "outputs": [
    {
     "name": "stdout",
     "output_type": "stream",
     "text": [
      "downloading pretrained BERT model (uncased_L-12_H-768_A-12.zip)...\n",
      "[██████████████████████████████████████████████████]\n",
      "extracting pretrained BERT model...\n",
      "done.\n",
      "\n",
      "cleanup downloaded zip...\n",
      "done.\n",
      "\n",
      "preprocessing train...\n",
      "language: en\n"
     ]
    },
    {
     "data": {
      "text/html": [
       "\n",
       "<style>\n",
       "    /* Turns off some styling */\n",
       "    progress {\n",
       "        /* gets rid of default border in Firefox and Opera. */\n",
       "        border: none;\n",
       "        /* Needs to be in here for Safari polyfill so background images work as expected. */\n",
       "        background-size: auto;\n",
       "    }\n",
       "    progress:not([value]), progress:not([value])::-webkit-progress-bar {\n",
       "        background: repeating-linear-gradient(45deg, #7e7e7e, #7e7e7e 10px, #5c5c5c 10px, #5c5c5c 20px);\n",
       "    }\n",
       "    .progress-bar-interrupted, .progress-bar-interrupted::-webkit-progress-bar {\n",
       "        background: #F44336;\n",
       "    }\n",
       "</style>\n"
      ],
      "text/plain": [
       "<IPython.core.display.HTML object>"
      ]
     },
     "metadata": {},
     "output_type": "display_data"
    },
    {
     "data": {
      "text/html": [
       "done."
      ],
      "text/plain": [
       "<IPython.core.display.HTML object>"
      ]
     },
     "metadata": {},
     "output_type": "display_data"
    },
    {
     "name": "stdout",
     "output_type": "stream",
     "text": [
      "Is Multi-Label? False\n",
      "preprocessing test...\n",
      "language: en\n"
     ]
    },
    {
     "data": {
      "text/html": [
       "\n",
       "<style>\n",
       "    /* Turns off some styling */\n",
       "    progress {\n",
       "        /* gets rid of default border in Firefox and Opera. */\n",
       "        border: none;\n",
       "        /* Needs to be in here for Safari polyfill so background images work as expected. */\n",
       "        background-size: auto;\n",
       "    }\n",
       "    progress:not([value]), progress:not([value])::-webkit-progress-bar {\n",
       "        background: repeating-linear-gradient(45deg, #7e7e7e, #7e7e7e 10px, #5c5c5c 10px, #5c5c5c 20px);\n",
       "    }\n",
       "    .progress-bar-interrupted, .progress-bar-interrupted::-webkit-progress-bar {\n",
       "        background: #F44336;\n",
       "    }\n",
       "</style>\n"
      ],
      "text/plain": [
       "<IPython.core.display.HTML object>"
      ]
     },
     "metadata": {},
     "output_type": "display_data"
    },
    {
     "data": {
      "text/html": [
       "done."
      ],
      "text/plain": [
       "<IPython.core.display.HTML object>"
      ]
     },
     "metadata": {},
     "output_type": "display_data"
    },
    {
     "name": "stdout",
     "output_type": "stream",
     "text": [
      "task: text classification\n"
     ]
    }
   ],
   "source": [
    "sentences = df['Sentence'].tolist()\n",
    "labels = df['Label'].tolist()\n",
    "(x_train, y_train), (x_test, y_test), preproc = text.texts_from_array(sentences, labels,\n",
    "                                                                       preprocess_mode='bert',\n",
    "                                                                       maxlen=100,\n",
    "                                                                      val_pct=0.2,\n",
    "                                                                      class_names=list(set(labels))\n",
    "                                                                      )"
   ]
  },
  {
   "cell_type": "markdown",
   "metadata": {
    "id": "kmxTcWLlrEYK"
   },
   "source": [
    "# Building the BERT model"
   ]
  },
  {
   "cell_type": "code",
   "execution_count": 12,
   "metadata": {
    "colab": {
     "base_uri": "https://localhost:8080/"
    },
    "id": "FauKTJy3rGty",
    "outputId": "56ced83e-da56-4d9c-85b8-dfd0152da789",
    "tags": []
   },
   "outputs": [
    {
     "name": "stdout",
     "output_type": "stream",
     "text": [
      "Is Multi-Label? False\n",
      "maxlen is 100\n"
     ]
    },
    {
     "name": "stderr",
     "output_type": "stream",
     "text": [
      "C:\\Users\\Phuoc Le\\AppData\\Roaming\\Python\\Python311\\site-packages\\keras\\src\\initializers\\initializers.py:120: UserWarning: The initializer GlorotNormal is unseeded and being called multiple times, which will return identical values each time (even if the initializer is unseeded). Please update your code to provide a seed to the initializer, or avoid using the same initializer instance more than once.\n",
      "  warnings.warn(\n"
     ]
    },
    {
     "name": "stdout",
     "output_type": "stream",
     "text": [
      "done.\n"
     ]
    }
   ],
   "source": [
    "model = text.text_classifier('bert', (x_train, y_train), preproc=preproc)"
   ]
  },
  {
   "cell_type": "markdown",
   "metadata": {
    "id": "NZ9VMx3itbuE"
   },
   "source": [
    "# Fine-tuning the BERT model"
   ]
  },
  {
   "cell_type": "code",
   "execution_count": 13,
   "metadata": {
    "id": "8BZ0P_Nmtczq",
    "tags": []
   },
   "outputs": [],
   "source": [
    "learner = ktrain.get_learner(model=model,\n",
    "                             train_data=(x_train, y_train),\n",
    "                             val_data=(x_test, y_test),\n",
    "                             batch_size=32)"
   ]
  },
  {
   "cell_type": "code",
   "execution_count": null,
   "metadata": {
    "colab": {
     "base_uri": "https://localhost:8080/"
    },
    "id": "ufojLa5JtifC",
    "outputId": "a8e08240-cbc4-4228-b160-7dd5d9a10a3e",
    "tags": []
   },
   "outputs": [
    {
     "name": "stdout",
     "output_type": "stream",
     "text": [
      "\n",
      "\n",
      "begin training using onecycle policy with max lr of 2e-05...\n",
      "Epoch 1/4\n"
     ]
    }
   ],
   "source": [
    "learner.fit_onecycle(lr=2e-5, epochs=4)"
   ]
  },
  {
   "cell_type": "code",
   "execution_count": null,
   "metadata": {
    "colab": {
     "base_uri": "https://localhost:8080/"
    },
    "id": "f_Rpmq8CCKdz",
    "outputId": "15c26fee-3310-4f88-a661-179eff33a263",
    "tags": []
   },
   "outputs": [],
   "source": [
    "learner.validate(class_names=preproc.get_classes())\n"
   ]
  },
  {
   "cell_type": "code",
   "execution_count": null,
   "metadata": {
    "colab": {
     "base_uri": "https://localhost:8080/"
    },
    "id": "Lg9RxAF4rdqE",
    "outputId": "e8527774-cc2c-4063-dc5f-c49b65830890"
   },
   "outputs": [],
   "source": [
    "learner.view_top_losses(n=30, preproc=preproc)"
   ]
  },
  {
   "cell_type": "markdown",
   "metadata": {
    "id": "sQ-dnKre5cvq"
   },
   "source": [
    "# Make predictions with the model"
   ]
  },
  {
   "cell_type": "code",
   "execution_count": null,
   "metadata": {
    "colab": {
     "base_uri": "https://localhost:8080/"
    },
    "id": "tYpccElmCKd1",
    "outputId": "4707272a-8132-49bf-c065-fe41ecbabd12",
    "tags": []
   },
   "outputs": [],
   "source": [
    "predictor = ktrain.get_predictor(learner.model, preproc)\n",
    "\n",
    "# make predictions\n",
    "samples = [\n",
    "     \"1'; DROP TABLE users;--\",\n",
    "     \"UPDATE customers SET phone_number = '555-555-5555' WHERE name = 'John Doe'\",\n",
    "     \"SELECT COUNT(*) FROM users WHERE username = 'admin' OR 1 = 1\",\n",
    "     \"UPDATE users SET password = 'newpassword' WHERE username = 'admin'\" ,\n",
    "     \"select * from generate_series  (  5980,5980,case when   (  5980  =  5063  )   then 1 else 0 end  )   limit 1--\",\n",
    "     \"SELECT TOP 3 * FROM growth SELECT * FROM catch 3SELECT * FROM mainly\",\n",
    "     \"select * from users where id  =  1 or 1#\",\n",
    "     \"INSERT INTO column ( white, does, certain, curious, first, our )  VALUES  ( 'rose', 'anyone'. close', 'remove', 'force', 'feet', 'fell' )\",\n",
    "     \"SELECT * FROM users WHERE username = '' OR 1=1 --' AND password = 'input_password'\"]\n",
    "prediction = predictor.predict(samples)\n",
    "print(prediction)"
   ]
  },
  {
   "cell_type": "markdown",
   "metadata": {
    "id": "TcCPudKYMaH_"
   },
   "source": [
    "# Save Trained Model"
   ]
  },
  {
   "cell_type": "code",
   "execution_count": null,
   "metadata": {
    "id": "FZUCi-ltK4a_"
   },
   "outputs": [],
   "source": [
    "with open('final_modelz.pkl', 'wb') as f:\n",
    "    pickle.dump(predictor, f)"
   ]
  },
  {
   "cell_type": "markdown",
   "metadata": {
    "id": "l_5aiyZ-nOay"
   },
   "source": [
    "# Plotting the training and validation loss"
   ]
  },
  {
   "cell_type": "code",
   "execution_count": null,
   "metadata": {
    "colab": {
     "base_uri": "https://localhost:8080/",
     "height": 472
    },
    "id": "i3C0saa5nJBZ",
    "outputId": "3c5db1e4-47b6-4460-ced0-ec4f8184eabd"
   },
   "outputs": [],
   "source": [
    "train_loss = learner.history.history['loss']\n",
    "val_loss = learner.history.history['val_loss']\n",
    "\n",
    "# Plot the training and validation loss\n",
    "plt.plot(range(1, len(train_loss) + 1), train_loss, label='Training Loss')\n",
    "plt.plot(range(1, len(val_loss) + 1), val_loss, label='Validation Loss')\n",
    "plt.xlabel('Epoch')\n",
    "plt.ylabel('Loss')\n",
    "plt.title('Training and Validation Loss')\n",
    "plt.legend()\n",
    "plt.show()"
   ]
  },
  {
   "cell_type": "markdown",
   "metadata": {
    "id": "bqUO8VbUeT9n"
   },
   "source": [
    "# Test the Model on a new unseen samples"
   ]
  },
  {
   "cell_type": "code",
   "execution_count": null,
   "metadata": {
    "colab": {
     "base_uri": "https://localhost:8080/"
    },
    "id": "1vbqVmHHeZ0k",
    "outputId": "4d35c771-16ed-4f83-8576-618a668df95d"
   },
   "outputs": [],
   "source": [
    "normal_queries = [\n",
    "    \"DELETE FROM users WHERE id = 123;\",\n",
    "    \"SELECT * FROM users WHERE id = 123\",\n",
    "    \"SELECT * FROM users WHERE id IN (SELECT user_id FROM purchases WHERE purchase_date >= DATE_SUB(NOW(), INTERVAL 30 DAY))\",\n",
    "    \"UPDATE users SET password = 'newpassword' WHERE username = 'admin'\" ,\n",
    "    \"SELECT city, AVG(age) as avg_age FROM users GROUP BY city\",\n",
    "    \"SELECT * FROM users WHERE name = 'John'\",\n",
    "    \"SELECT u.id, u.name, SUM(p.amount) as total_purchase FROM users u JOIN purchases p ON u.id = p.user_id GROUP BY u.id, u.name ORDER BY total_purchase DESC LIMIT 5\",\n",
    "    \"INSERT INTO column ( white, does, certain, curious, first, our )  VALUES  ( 'rose', 'anyone'. close', 'remove', 'force', 'feet', 'fell' )\",\n",
    "    \"SELECT * FROM users ORDER BY registration_date DESC\",\n",
    "    \"SELECT u.* FROM users u WHERE NOT EXISTS (SELECT c.id FROM categories c WHERE NOT EXISTS (SELECT p.id FROM purchases p WHERE p.category_id = c.id AND p.user_id = u.id))\"\n",
    "]\n",
    "sql_injections = [\n",
    "     \"1'; DROP TABLE users;--\",\n",
    "     \"1 and ascii ( lower ( substring  (  (  select top 1 name from sysobjects where xtype = 'u' ) , 1, 1  )  )   )  > 116\",\n",
    "     \"anything' or 'x' = 'x\",\n",
    "     \" )  union select * from information_schema.tables;\",\n",
    "     \"x' AND members.email IS NULL; --\",\n",
    "     \"SELECT COUNT(*) FROM users WHERE username = 'admin' OR 1 = 1\",\n",
    "     \"select * from generate_series  (  5980,5980,case when   (  5980  =  5063  )   then 1 else 0 end  )   limit 1--\",\n",
    "     \"select * from users where id  =  1 or 1#\",\n",
    "     \"SELECT * FROM users WHERE username = '' OR 1=1 --' AND password = 'input_password'\",\n",
    "     \"' AND 1 = utl_inaddr.get_host_address  (  (  SELECT DISTINCT ( granted_role )  FROM  ( SELECT DISTINCT ( granted_role ) , ROWNUM AS LIMIT FROM dba_role_privs WHERE GRANTEE = SYS.LOGINUSER )  WHERE LIMIT = 7  )  )   AND 'i' = 'i\"]\n",
    "prediction_1 = predictor.predict(normal_queries)\n",
    "print(prediction_1)\n",
    "prediction_2 = predictor.predict(sql_injections)\n",
    "print(prediction_2)"
   ]
  },
  {
   "cell_type": "markdown",
   "metadata": {
    "id": "pGQ1E_FFenub"
   },
   "source": [
    "# Test the model on a new dataset contains Only SQL injections"
   ]
  },
  {
   "cell_type": "code",
   "execution_count": null,
   "metadata": {
    "id": "2ZTkTFavo60t"
   },
   "outputs": [],
   "source": [
    "with open('sqli.csv', 'rb') as f:\n",
    "    result = chardet.detect(f.read())\n",
    "# Read the CSV file into a pandas dataframe, using the detected encoding\n",
    "dataset = pd.read_csv('sqli.csv', sep=',',  encoding=result['encoding'],nrows=1100)\n",
    "\n",
    "\n",
    "# Separate queries and labels\n",
    "queries = dataset['Sentence'].tolist()\n",
    "labels = dataset['Label'].tolist()"
   ]
  },
  {
   "cell_type": "markdown",
   "metadata": {
    "id": "uOxHsLozqBQW"
   },
   "source": [
    "#Checking similarity between the train dataset and the test dataset"
   ]
  },
  {
   "cell_type": "code",
   "execution_count": null,
   "metadata": {
    "colab": {
     "base_uri": "https://localhost:8080/"
    },
    "id": "E4MuL-jxqCUS",
    "outputId": "d9b4a97e-f470-48cb-9bd9-d045d1a1c14b"
   },
   "outputs": [],
   "source": [
    "with open('sqli.csv', 'rb') as f:\n",
    "    resultt = chardet.detect(f.read())\n",
    "# Load the first CSV file\n",
    "df1 = pd.read_csv('sqli.csv', sep=',',  encoding=resultt['encoding'],nrows=1100)\n",
    "with open('SQLiV3_3.csv', 'rb') as f:\n",
    "    result = chardet.detect(f.read())\n",
    "# Load the second CSV file\n",
    "df2 = pd.read_csv('SQLiV3_3.csv', sep=',',  encoding=result['encoding'])\n",
    "\n",
    "# Extract the \"sentences\" column from each DataFrame\n",
    "sentences1 = set(df1['Sentence'].tolist())\n",
    "sentences2 = set(df2['Sentence'].tolist())\n",
    "\n",
    "# Find the common sentences\n",
    "common_sentences = sentences1.intersection(sentences2)\n",
    "\n",
    "# Calculate the percentage of common sentences in the first dataset\n",
    "similarity_percentage = (len(common_sentences) / len(sentences1)) * 100\n",
    "\n",
    "# Print the similarity percentage\n",
    "print(f\"Similarity Percentage: {similarity_percentage}%\")"
   ]
  },
  {
   "cell_type": "code",
   "execution_count": null,
   "metadata": {
    "colab": {
     "base_uri": "https://localhost:8080/"
    },
    "id": "athTNDVOqLlI",
    "outputId": "dfa61a01-5eb5-42bc-a485-6f4db14e1f86"
   },
   "outputs": [],
   "source": [
    "# Count the number of common sentences\n",
    "common_sentence_count = len(common_sentences)\n",
    "# Print the count of common sentences\n",
    "print(f\"Number of Common Sentences: {common_sentence_count}\")"
   ]
  },
  {
   "cell_type": "markdown",
   "metadata": {
    "id": "XsPR86EtfbXu"
   },
   "source": [
    "#Testing"
   ]
  },
  {
   "cell_type": "code",
   "execution_count": null,
   "metadata": {
    "colab": {
     "base_uri": "https://localhost:8080/"
    },
    "id": "Qlhc0d0ufFvn",
    "outputId": "17a235bc-28bf-47c7-b5b3-1ea673f1ee09"
   },
   "outputs": [],
   "source": [
    "correct_predictions = 0\n",
    "total_queries = len(queries)\n",
    "for query, label in zip(queries, labels):\n",
    "    if not isinstance(query, str):\n",
    "        query = str(query)\n",
    "    prediction = predictor.predict(query)\n",
    "    if prediction == label:\n",
    "        correct_predictions += 1\n",
    "\n",
    "accuracy = correct_predictions / total_queries\n",
    "print(f\"Accuracy: {accuracy}\")"
   ]
  },
  {
   "cell_type": "code",
   "execution_count": null,
   "metadata": {
    "colab": {
     "base_uri": "https://localhost:8080/"
    },
    "id": "7jDU3-obfImn",
    "outputId": "71fcd22e-8047-43fd-ffa1-b2ae9bef6c22"
   },
   "outputs": [],
   "source": [
    "print(total_queries)\n",
    "print(correct_predictions)"
   ]
  }
 ],
 "metadata": {
  "accelerator": "GPU",
  "colab": {
   "gpuClass": "premium",
   "machine_shape": "hm",
   "provenance": []
  },
  "gpuClass": "premium",
  "kernelspec": {
   "display_name": "Python 3 (ipykernel)",
   "language": "python",
   "name": "python3"
  },
  "language_info": {
   "codemirror_mode": {
    "name": "ipython",
    "version": 3
   },
   "file_extension": ".py",
   "mimetype": "text/x-python",
   "name": "python",
   "nbconvert_exporter": "python",
   "pygments_lexer": "ipython3",
   "version": "3.11.7"
  },
  "vscode": {
   "interpreter": {
    "hash": "e61bd8b0a13d4c7feb8d281728ded08f460fac102e59a03a4663eaf8344307c0"
   }
  }
 },
 "nbformat": 4,
 "nbformat_minor": 4
}
